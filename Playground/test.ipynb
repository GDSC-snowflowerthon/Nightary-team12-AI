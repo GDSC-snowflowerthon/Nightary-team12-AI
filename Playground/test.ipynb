{
 "cells": [
  {
   "cell_type": "code",
   "execution_count": 56,
   "metadata": {},
   "outputs": [
    {
     "data": {
      "text/plain": [
       "0    16.019658\n",
       "1    15.962518\n",
       "2    15.977215\n",
       "3    15.973434\n",
       "4    15.974407\n",
       "Name: predicted_mean, dtype: float64"
      ]
     },
     "execution_count": 56,
     "metadata": {},
     "output_type": "execute_result"
    }
   ],
   "source": [
    "import pandas as pd\n",
    "from datetime import datetime, timedelta\n",
    "\n",
    "df = pd.DataFrame({\n",
    "    'startSleepDate': ['2023-12-11 16:28:51', '2023-12-12 14:34:51', '2023-12-13 14:48:51',\n",
    "                       '2023-12-14 15:38:51', '2023-12-15 15:37:51', '2023-12-16 15:14:51',\n",
    "                       '2023-12-17 16:01:51', '2023-12-18 16:29:51', '2023-12-19 16:03:51',\n",
    "                       '2023-12-20 14:32:51', '2023-12-21 13:44:51', '2023-12-22 14:44:51',\n",
    "                       '2023-12-23 15:43:51', '2023-12-24 14:30:51', '2023-12-25 15:08:51',\n",
    "                       '2023-12-26 16:28:51', '2023-12-27 15:42:51', '2023-12-28 14:49:51',\n",
    "                       '2023-12-29 15:01:51', '2023-12-30 15:47:51'],\n",
    "    'endSleepDate': ['2023-12-12 00:28:51', '2023-12-12 21:34:51', '2023-12-13 20:48:51',\n",
    "                     '2023-12-14 23:38:51', '2023-12-15 21:37:51', '2023-12-16 22:14:51',\n",
    "                     '2023-12-17 22:01:51', '2023-12-18 22:29:51', '2023-12-19 23:03:51',\n",
    "                     '2023-12-20 21:32:51', '2023-12-21 21:44:51', '2023-12-22 20:44:51',\n",
    "                     '2023-12-23 21:43:51', '2023-12-24 20:30:51', '2023-12-25 22:08:51',\n",
    "                     '2023-12-27 00:28:51', '2023-12-27 23:42:51', '2023-12-28 22:49:51',\n",
    "                     '2023-12-29 23:01:51', '2023-12-30 23:47:51']\n",
    "})\n",
    "\n",
    "# 날짜/시간 변환\n",
    "df['startSleepDate'] = pd.to_datetime(df['startSleepDate'])\n",
    "df['endSleepDate'] = pd.to_datetime(df['endSleepDate'])\n",
    "\n",
    "# 수면 기간 계산 (시간 단위)\n",
    "df['sleepDuration'] = (df['endSleepDate'] - df['startSleepDate']).dt.total_seconds() / 3600\n",
    "df.loc[df['sleepDuration'] < 0, 'sleepDuration'] += 24\n",
    "\n",
    "# 수면 시작 시간을 시간의 소수점 형식으로 변환 (예: 16:30 -> 16.5)\n",
    "df['start_hour'] = df['startSleepDate'].dt.hour + df['startSleepDate'].dt.minute / 60 + df['startSleepDate'].dt.second / 3600\n",
    "\n",
    "# 각 수면 이벤트에 대한 ARIMA 모델\n",
    "model_start_time = ARIMA(df['start_hour'], order=(1, 1, 1))\n",
    "model_start_time_fit = model_start_time.fit()\n",
    "start_time_forecast = model_start_time_fit.forecast(steps=5).reset_index(drop=True)\n",
    "start_time_forecast\n",
    "\n",
    "\n"
   ]
  },
  {
   "cell_type": "code",
   "execution_count": 55,
   "metadata": {},
   "outputs": [
    {
     "data": {
      "text/plain": [
       "0    7.770614\n",
       "1    7.737604\n",
       "2    7.732854\n",
       "3    7.732170\n",
       "4    7.732072\n",
       "Name: predicted_mean, dtype: float64"
      ]
     },
     "execution_count": 55,
     "metadata": {},
     "output_type": "execute_result"
    }
   ],
   "source": [
    "model_duration= ARIMA(df['sleepDuration'], order=(1, 1, 1))\n",
    "model_duration_fit = model_duration.fit()\n",
    "duration_forecast = model_duration_fit.forecast(steps=5).reset_index(drop=True)\n",
    "duration_forecast"
   ]
  },
  {
   "cell_type": "code",
   "execution_count": 57,
   "metadata": {},
   "outputs": [
    {
     "data": {
      "text/html": [
       "<div>\n",
       "<style scoped>\n",
       "    .dataframe tbody tr th:only-of-type {\n",
       "        vertical-align: middle;\n",
       "    }\n",
       "\n",
       "    .dataframe tbody tr th {\n",
       "        vertical-align: top;\n",
       "    }\n",
       "\n",
       "    .dataframe thead th {\n",
       "        text-align: right;\n",
       "    }\n",
       "</style>\n",
       "<table border=\"1\" class=\"dataframe\">\n",
       "  <thead>\n",
       "    <tr style=\"text-align: right;\">\n",
       "      <th></th>\n",
       "      <th>Predicted Start Time</th>\n",
       "      <th>Predicted End Time</th>\n",
       "    </tr>\n",
       "  </thead>\n",
       "  <tbody>\n",
       "    <tr>\n",
       "      <th>2023-12-31 15:47:51</th>\n",
       "      <td>2023-12-31 16:01:51</td>\n",
       "      <td>2023-12-31 23:48:05.209083</td>\n",
       "    </tr>\n",
       "    <tr>\n",
       "      <th>2024-01-01 15:47:51</th>\n",
       "      <td>2024-01-01 15:57:51</td>\n",
       "      <td>2024-01-01 23:42:06.374172</td>\n",
       "    </tr>\n",
       "    <tr>\n",
       "      <th>2024-01-02 15:47:51</th>\n",
       "      <td>2024-01-02 15:58:51</td>\n",
       "      <td>2024-01-02 23:42:49.273311</td>\n",
       "    </tr>\n",
       "    <tr>\n",
       "      <th>2024-01-03 15:47:51</th>\n",
       "      <td>2024-01-03 15:58:51</td>\n",
       "      <td>2024-01-03 23:42:46.812422</td>\n",
       "    </tr>\n",
       "    <tr>\n",
       "      <th>2024-01-04 15:47:51</th>\n",
       "      <td>2024-01-04 15:58:51</td>\n",
       "      <td>2024-01-04 23:42:46.458290</td>\n",
       "    </tr>\n",
       "  </tbody>\n",
       "</table>\n",
       "</div>"
      ],
      "text/plain": [
       "                    Predicted Start Time         Predicted End Time\n",
       "2023-12-31 15:47:51  2023-12-31 16:01:51 2023-12-31 23:48:05.209083\n",
       "2024-01-01 15:47:51  2024-01-01 15:57:51 2024-01-01 23:42:06.374172\n",
       "2024-01-02 15:47:51  2024-01-02 15:58:51 2024-01-02 23:42:49.273311\n",
       "2024-01-03 15:47:51  2024-01-03 15:58:51 2024-01-03 23:42:46.812422\n",
       "2024-01-04 15:47:51  2024-01-04 15:58:51 2024-01-04 23:42:46.458290"
      ]
     },
     "execution_count": 57,
     "metadata": {},
     "output_type": "execute_result"
    }
   ],
   "source": [
    "# 예측된 시작 시간과 기간을 사용하여 종료 시간 계산\n",
    "future_dates = pd.date_range(start=df['startSleepDate'].max(), periods=6, freq='D')[1:]\n",
    "final_predictions = pd.DataFrame({\n",
    "    'Predicted Start Time': [convert_to_datetime(future_dates[i], start_time_forecast[i]) for i in range(5)],\n",
    "    'Predicted End Time': [convert_to_datetime(future_dates[i], start_time_forecast[i]) + timedelta(hours=duration_forecast[i]) for i in range(5)]\n",
    "}, index=future_dates)\n",
    "\n",
    "final_predictions"
   ]
  },
  {
   "cell_type": "code",
   "execution_count": 48,
   "metadata": {},
   "outputs": [
    {
     "name": "stdout",
     "output_type": "stream",
     "text": [
      "                    Predicted Start Time         Predicted End Time\n",
      "2023-12-31 15:47:51  2023-12-31 16:01:51 2023-12-31 23:48:05.209083\n",
      "2024-01-01 15:47:51  2024-01-01 15:57:51 2024-01-01 23:42:06.374172\n",
      "2024-01-02 15:47:51  2024-01-02 15:58:51 2024-01-02 23:42:49.273311\n",
      "2024-01-03 15:47:51  2024-01-03 15:58:51 2024-01-03 23:42:46.812422\n",
      "2024-01-04 15:47:51  2024-01-04 15:58:51 2024-01-04 23:42:46.458290\n"
     ]
    }
   ],
   "source": [
    "# 각 수면 이벤트에 대한 ARIMA 모델\n",
    "model_start_time = ARIMA(df['start_hour'], order=(1, 1, 1))\n",
    "model_start_time_fit = model_start_time.fit()\n",
    "start_time_forecast = model_start_time_fit.forecast(steps=5)\n",
    "\n",
    "# 각 수면 이벤트에 대한 수면 시작 시간 및 기간 예측\n",
    "start_time_forecast = model_start_time_fit.forecast(steps=5).reset_index(drop=True)\n",
    "duration_forecast = model_duration_fit.forecast(steps=5).reset_index(drop=True)\n",
    "\n",
    "# 예측된 시작 시간과 기간을 사용하여 종료 시간 계산\n",
    "future_dates = pd.date_range(start=df['startSleepDate'].max(), periods=6, freq='D')[1:]\n",
    "final_predictions = pd.DataFrame({\n",
    "    'Predicted Start Time': [convert_to_datetime(future_dates[i], start_time_forecast[i]) for i in range(5)],\n",
    "    'Predicted End Time': [convert_to_datetime(future_dates[i], start_time_forecast[i]) + timedelta(hours=duration_forecast[i]) for i in range(5)]\n",
    "}, index=future_dates)\n",
    "\n",
    "# 최종 예측 결과 출력\n",
    "print(final_predictions)"
   ]
  }
 ],
 "metadata": {
  "kernelspec": {
   "display_name": "Python 3",
   "language": "python",
   "name": "python3"
  },
  "language_info": {
   "codemirror_mode": {
    "name": "ipython",
    "version": 3
   },
   "file_extension": ".py",
   "mimetype": "text/x-python",
   "name": "python",
   "nbconvert_exporter": "python",
   "pygments_lexer": "ipython3",
   "version": "3.11.6"
  }
 },
 "nbformat": 4,
 "nbformat_minor": 2
}
